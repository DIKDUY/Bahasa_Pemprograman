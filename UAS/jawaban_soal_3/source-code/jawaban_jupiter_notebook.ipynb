{
 "cells": [
  {
   "cell_type": "code",
   "execution_count": 2,
   "metadata": {},
   "outputs": [],
   "source": [
    "import sqlite3\n",
    "\n",
    "def create_database():\n",
    "    conn = sqlite3.connect('example.db')\n",
    "    c = conn.cursor()\n",
    "    c.execute('''CREATE TABLE IF NOT EXISTS notes\n",
    "                 (id INTEGER PRIMARY KEY AUTOINCREMENT,\n",
    "                 title TEXT NOT NULL,\n",
    "                 content TEXT NOT NULL)''')\n",
    "    conn.commit()\n",
    "    conn.close()\n",
    "\n",
    "create_database()"
   ]
  },
  {
   "cell_type": "code",
   "execution_count": 4,
   "metadata": {},
   "outputs": [
    {
     "name": "stdout",
     "output_type": "stream",
     "text": [
      "Tkinter is installed and imported successfully.\n"
     ]
    }
   ],
   "source": [
    "try:\n",
    "    from tkinter import Tk, Label, Entry, Text, Button, END\n",
    "    print(\"Tkinter is installed and imported successfully.\")\n",
    "except ImportError:\n",
    "    print(\"Tkinter is not installed.\")"
   ]
  },
  {
   "cell_type": "code",
   "execution_count": 7,
   "metadata": {},
   "outputs": [],
   "source": [
    "import sqlite3\n",
    "from tkinter import Tk, Label, Entry, Text, Button, END\n",
    "\n",
    "# Fungsi untuk membuat database dan tabel\n",
    "def create_database():\n",
    "    conn = sqlite3.connect('example.db')\n",
    "    c = conn.cursor()\n",
    "    c.execute('''CREATE TABLE IF NOT EXISTS notes\n",
    "                 (id INTEGER PRIMARY KEY AUTOINCREMENT,\n",
    "                 title TEXT NOT NULL,\n",
    "                 content TEXT NOT NULL)''')\n",
    "    conn.commit()\n",
    "    conn.close()\n",
    "\n",
    "# Fungsi untuk menambahkan catatan ke database\n",
    "def add_note():\n",
    "    title = title_entry.get()\n",
    "    content = content_text.get(\"1.0\", END)\n",
    "    conn = sqlite3.connect('example.db')\n",
    "    c = conn.cursor()\n",
    "    c.execute(\"INSERT INTO notes (title, content) VALUES (?, ?)\", (title, content))\n",
    "    conn.commit()\n",
    "    conn.close()\n",
    "    title_entry.delete(0, END)\n",
    "    content_text.delete(\"1.0\", END)\n",
    "    display_notes()\n",
    "\n",
    "# Fungsi untuk menampilkan catatan dari database\n",
    "def display_notes():\n",
    "    conn = sqlite3.connect('example.db')\n",
    "    c = conn.cursor()\n",
    "    c.execute(\"SELECT * FROM notes\")\n",
    "    rows = c.fetchall()\n",
    "    conn.close()\n",
    "    notes_text.delete(\"1.0\", END)\n",
    "    for row in rows:\n",
    "        notes_text.insert(END, f\"ID: {row[0]}\\nTitle: {row[1]}\\nContent: {row[2]}\\n\\n\")\n",
    "\n",
    "# Membuat jendela utama\n",
    "root = Tk()\n",
    "root.title(\"Simple Note App\")\n",
    "\n",
    "# Label dan entry untuk judul catatan\n",
    "title_label = Label(root, text=\"Title\")\n",
    "title_label.pack()\n",
    "title_entry = Entry(root)\n",
    "title_entry.pack()\n",
    "\n",
    "# Label dan text box untuk konten catatan\n",
    "content_label = Label(root, text=\"Content\")\n",
    "content_label.pack()\n",
    "content_text = Text(root, height=10)\n",
    "content_text.pack()\n",
    "\n",
    "# Tombol untuk menambahkan catatan\n",
    "add_button = Button(root, text=\"Add Note\", command=add_note)\n",
    "add_button.pack()\n",
    "\n",
    "# Text box untuk menampilkan catatan\n",
    "notes_label = Label(root, text=\"Notes\")\n",
    "notes_label.pack()\n",
    "notes_text = Text(root, height=10)\n",
    "notes_text.pack()\n",
    "\n",
    "# Tampilkan catatan yang ada saat memulai aplikasi\n",
    "create_database()\n",
    "display_notes()\n",
    "\n",
    "# Jalankan aplikasi\n",
    "root.mainloop()"
   ]
  }
 ],
 "metadata": {
  "kernelspec": {
   "display_name": "Python 3",
   "language": "python",
   "name": "python3"
  },
  "language_info": {
   "codemirror_mode": {
    "name": "ipython",
    "version": 3
   },
   "file_extension": ".py",
   "mimetype": "text/x-python",
   "name": "python",
   "nbconvert_exporter": "python",
   "pygments_lexer": "ipython3",
   "version": "3.10.12"
  }
 },
 "nbformat": 4,
 "nbformat_minor": 2
}
