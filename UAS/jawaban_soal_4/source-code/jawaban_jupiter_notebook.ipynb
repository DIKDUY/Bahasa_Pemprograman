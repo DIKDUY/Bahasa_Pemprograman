{
 "cells": [
  {
   "cell_type": "code",
   "execution_count": 2,
   "metadata": {},
   "outputs": [
    {
     "name": "stdout",
     "output_type": "stream",
     "text": [
      "Data dalam tabel users:\n",
      "(1, 'Alice', 30)\n",
      "(2, 'Bob', 25)\n",
      "Data Alice yang diperbarui: (1, 'Alice', 31)\n",
      "Data dalam tabel users setelah penghapusan:\n",
      "(1, 'Alice', 31)\n"
     ]
    }
   ],
   "source": [
    "import sqlite3\n",
    "\n",
    "# Membuat koneksi ke database SQLite (atau membuat file database jika belum ada)\n",
    "conn = sqlite3.connect('example.db')\n",
    "\n",
    "# Membuat cursor\n",
    "cursor = conn.cursor()\n",
    "\n",
    "# Membuat tabel\n",
    "cursor.execute('''CREATE TABLE IF NOT EXISTS users (\n",
    "                    id INTEGER PRIMARY KEY AUTOINCREMENT,\n",
    "                    name TEXT NOT NULL,\n",
    "                    age INTEGER NOT NULL\n",
    "                )''')\n",
    "\n",
    "# Memasukkan data ke dalam tabel\n",
    "cursor.execute(\"INSERT INTO users (name, age) VALUES ('Alice', 30)\")\n",
    "cursor.execute(\"INSERT INTO users (name, age) VALUES ('Bob', 25)\")\n",
    "\n",
    "# Commit perubahan\n",
    "conn.commit()\n",
    "\n",
    "# Membaca data dari tabel\n",
    "cursor.execute(\"SELECT * FROM users\")\n",
    "rows = cursor.fetchall()\n",
    "print(\"Data dalam tabel users:\")\n",
    "for row in rows:\n",
    "    print(row)\n",
    "\n",
    "# Memperbarui data\n",
    "cursor.execute(\"UPDATE users SET age = 31 WHERE name = 'Alice'\")\n",
    "conn.commit()\n",
    "\n",
    "# Membaca data yang diperbarui\n",
    "cursor.execute(\"SELECT * FROM users WHERE name = 'Alice'\")\n",
    "print(\"Data Alice yang diperbarui:\", cursor.fetchone())\n",
    "\n",
    "# Menghapus data\n",
    "cursor.execute(\"DELETE FROM users WHERE name = 'Bob'\")\n",
    "conn.commit()\n",
    "\n",
    "# Membaca data setelah penghapusan\n",
    "cursor.execute(\"SELECT * FROM users\")\n",
    "rows = cursor.fetchall()\n",
    "print(\"Data dalam tabel users setelah penghapusan:\")\n",
    "for row in rows:\n",
    "    print(row)\n",
    "\n",
    "# Menutup koneksi\n",
    "cursor.close()\n",
    "conn.close()"
   ]
  }
 ],
 "metadata": {
  "kernelspec": {
   "display_name": "Python 3",
   "language": "python",
   "name": "python3"
  },
  "language_info": {
   "codemirror_mode": {
    "name": "ipython",
    "version": 3
   },
   "file_extension": ".py",
   "mimetype": "text/x-python",
   "name": "python",
   "nbconvert_exporter": "python",
   "pygments_lexer": "ipython3",
   "version": "3.10.12"
  }
 },
 "nbformat": 4,
 "nbformat_minor": 2
}
